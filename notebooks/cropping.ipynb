{
 "cells": [
  {
   "cell_type": "code",
   "execution_count": 2,
   "id": "ad5ceb8e-3488-4b4f-bc1f-78b77b985075",
   "metadata": {},
   "outputs": [],
   "source": [
    "import SimpleITK as sitk\n",
    "import os\n",
    "import numpy as np\n",
    "import shutil\n",
    "import random"
   ]
  },
  {
   "cell_type": "code",
   "execution_count": 3,
   "id": "fc877626-739f-49d2-9699-5c501b79af5e",
   "metadata": {},
   "outputs": [],
   "source": [
    "classes = {\n",
    "    \"aorta.nii.gz\": 1,\n",
    "    \"heart_atrium_left.nii.gz\": 2,\n",
    "    \"heart_atrium_right.nii.gz\": 3,\n",
    "    \"heart_myocardium.nii.gz\": 4,\n",
    "    \"heart_ventricle_left.nii.gz\": 5,\n",
    "    \"heart_ventricle_right.nii.gz\": 6,\n",
    "}"
   ]
  },
  {
   "cell_type": "code",
   "execution_count": 4,
   "id": "6c463242-2667-4723-aaf5-bd22a0a14fe5",
   "metadata": {},
   "outputs": [
    {
     "name": "stdout",
     "output_type": "stream",
     "text": [
      "bad scan s0326\n",
      "bad scan s0352\n",
      "bad scan s0353\n",
      "bad scan s0361\n",
      "bad scan s0386\n",
      "bad scan s0417\n",
      "bad scan s0436\n"
     ]
    }
   ],
   "source": [
    "reader = sitk.ImageFileReader()\n",
    "reader.SetImageIO(\"NiftiImageIO\")\n",
    "writer = sitk.ImageFileWriter()\n",
    "writer.SetFileName(\"cropped_mask.nii.gz\")\n",
    "images_folder = \"imagesTr\"\n",
    "labels_folder = \"labelsTr\"\n",
    "\n",
    "shutil.rmtree(images_folder, ignore_errors=True)\n",
    "shutil.rmtree(labels_folder, ignore_errors=True)\n",
    "os.mkdir(images_folder)\n",
    "os.mkdir(labels_folder)\n",
    "sorted_scans = sorted(os.listdir(\"data\"))\n",
    "data_folder = os.path.join(os.environ[\"HOME\"], \"data\")\n",
    "cnt = 0\n",
    "hide_one_class_at_random = False\n",
    "for scan_id in sorted_scans[255:]:\n",
    "    reader.SetFileName(os.path.join(data_folder, scan_id, \"ct.nii.gz\"))\n",
    "    try:\n",
    "        full_scan = sitk.GetArrayFromImage(reader.Execute())\n",
    "    except:\n",
    "        print(\"bad scan\", scan_id)\n",
    "        continue\n",
    "    total_mask = np.zeros(full_scan.shape)\n",
    "    for key in classes:\n",
    "        segment_filename = os.path.join(\n",
    "            data_folder, scan_id, \"segmentations\", key\n",
    "        )\n",
    "        if not os.path.exists(segment_filename):\n",
    "            print(\"incomplete segmentation\", scan_id)\n",
    "            continue\n",
    "        reader.SetFileName(segment_filename)\n",
    "        total_mask += classes[key] * sitk.GetArrayFromImage(reader.Execute())\n",
    "    indices = np.where(total_mask > 0)\n",
    "    if indices[0].size > 0:\n",
    "        min_max = [(i.min(), i.max()) for i in indices]\n",
    "        cropped_mask = total_mask[\n",
    "            min_max[0][0] : min_max[0][1] + 1,\n",
    "            min_max[1][0] : min_max[1][1] + 1,\n",
    "            min_max[2][0] : min_max[2][1] + 1,\n",
    "        ]\n",
    "        cropped_scan = full_scan[\n",
    "            min_max[0][0] : min_max[0][1] + 1,\n",
    "            min_max[1][0] : min_max[1][1] + 1,\n",
    "            min_max[2][0] : min_max[2][1] + 1,\n",
    "        ]\n",
    "        if hide_one_class_at_random:\n",
    "            hidden_class = random.choice(range(1, 7))\n",
    "            cropped_mask[cropped_mask == hidden_class] = 0\n",
    "        writer.SetFileName(\n",
    "            os.path.join(labels_folder, f\"la_{scan_id[1:]}.nii.gz\")\n",
    "        )\n",
    "        writer.Execute(sitk.GetImageFromArray(cropped_mask))\n",
    "        writer.SetFileName(\n",
    "            os.path.join(images_folder, f\"la_{scan_id[1:]}_0000.nii.gz\")\n",
    "        )\n",
    "        writer.Execute(sitk.GetImageFromArray(cropped_scan))\n",
    "        cnt += 1\n",
    "        if cnt >= 100:\n",
    "            break"
   ]
  },
  {
   "cell_type": "code",
   "execution_count": 5,
   "id": "fbdf27ed-142a-4179-9583-dd6faf14e40c",
   "metadata": {},
   "outputs": [
    {
     "name": "stderr",
     "output_type": "stream",
     "text": [
      "  4%|▍         | 4/100 [00:00<00:03, 26.21it/s]"
     ]
    },
    {
     "name": "stdout",
     "output_type": "stream",
     "text": [
      "la_0316.nii.gz [True, True, False, False, False, False, False]\n"
     ]
    },
    {
     "name": "stderr",
     "output_type": "stream",
     "text": [
      "  7%|▋         | 7/100 [00:00<00:03, 27.17it/s]"
     ]
    },
    {
     "name": "stdout",
     "output_type": "stream",
     "text": [
      "la_0442.nii.gz [True, True, False, False, False, False, False]\n"
     ]
    },
    {
     "name": "stderr",
     "output_type": "stream",
     "text": [
      " 13%|█▎        | 13/100 [00:00<00:04, 19.73it/s]"
     ]
    },
    {
     "name": "stdout",
     "output_type": "stream",
     "text": [
      "la_0419.nii.gz [True, True, False, False, False, False, False]\n"
     ]
    },
    {
     "name": "stderr",
     "output_type": "stream",
     "text": [
      " 18%|█▊        | 18/100 [00:00<00:04, 18.52it/s]"
     ]
    },
    {
     "name": "stdout",
     "output_type": "stream",
     "text": [
      "la_0366.nii.gz [True, True, False, False, True, False, False]\n",
      "la_0385.nii.gz [True, True, False, False, False, False, False]\n"
     ]
    },
    {
     "name": "stderr",
     "output_type": "stream",
     "text": [
      " 28%|██▊       | 28/100 [00:01<00:03, 23.00it/s]"
     ]
    },
    {
     "name": "stdout",
     "output_type": "stream",
     "text": [
      "la_0395.nii.gz [True, True, False, True, False, False, False]\n",
      "la_0381.nii.gz [True, True, False, False, False, False, False]\n"
     ]
    },
    {
     "name": "stderr",
     "output_type": "stream",
     "text": [
      " 43%|████▎     | 43/100 [00:02<00:02, 22.46it/s]"
     ]
    },
    {
     "name": "stdout",
     "output_type": "stream",
     "text": [
      "la_0333.nii.gz [True, True, False, False, False, False, False]\n"
     ]
    },
    {
     "name": "stderr",
     "output_type": "stream",
     "text": [
      " 55%|█████▌    | 55/100 [00:02<00:02, 22.13it/s]"
     ]
    },
    {
     "name": "stdout",
     "output_type": "stream",
     "text": [
      "la_0346.nii.gz [True, True, False, False, False, False, False]\n",
      "la_0426.nii.gz [True, True, False, False, False, False, False]\n",
      "la_0411.nii.gz [True, True, False, False, False, False, False]\n"
     ]
    },
    {
     "name": "stderr",
     "output_type": "stream",
     "text": [
      " 61%|██████    | 61/100 [00:02<00:01, 22.83it/s]"
     ]
    },
    {
     "name": "stdout",
     "output_type": "stream",
     "text": [
      "la_0330.nii.gz [True, True, False, False, False, False, False]\n"
     ]
    },
    {
     "name": "stderr",
     "output_type": "stream",
     "text": [
      " 70%|███████   | 70/100 [00:03<00:01, 21.57it/s]"
     ]
    },
    {
     "name": "stdout",
     "output_type": "stream",
     "text": [
      "la_0359.nii.gz [True, True, False, False, False, False, False]\n"
     ]
    },
    {
     "name": "stderr",
     "output_type": "stream",
     "text": [
      " 83%|████████▎ | 83/100 [00:03<00:00, 23.21it/s]"
     ]
    },
    {
     "name": "stdout",
     "output_type": "stream",
     "text": [
      "la_0379.nii.gz [True, True, False, False, False, False, False]\n"
     ]
    },
    {
     "name": "stderr",
     "output_type": "stream",
     "text": [
      "100%|██████████| 100/100 [00:05<00:00, 19.57it/s]"
     ]
    },
    {
     "name": "stdout",
     "output_type": "stream",
     "text": [
      "la_0400.nii.gz [True, True, False, False, False, False, False]\n"
     ]
    },
    {
     "name": "stderr",
     "output_type": "stream",
     "text": [
      "\n"
     ]
    }
   ],
   "source": [
    "import os\n",
    "import SimpleITK as sitk\n",
    "from tqdm import tqdm\n",
    "\n",
    "reader = sitk.ImageFileReader()\n",
    "reader.SetImageIO(\"NiftiImageIO\")\n",
    "\n",
    "for filename in tqdm(os.listdir(\"labelsTr\")):\n",
    "    reader.SetFileName(os.path.join(\"labelsTr\", filename))\n",
    "    scan = reader.Execute()\n",
    "    values = [i in sitk.GetArrayFromImage(scan) for i in range(7)]\n",
    "    if 6 > sum(values):\n",
    "        print(filename, values)"
   ]
  },
  {
   "cell_type": "code",
   "execution_count": null,
   "id": "8fd9266c-54f3-4544-be45-4d336c809ea8",
   "metadata": {},
   "outputs": [],
   "source": []
  }
 ],
 "metadata": {
  "kernelspec": {
   "display_name": "Python 3 (ipykernel)",
   "language": "python",
   "name": "python3"
  },
  "language_info": {
   "codemirror_mode": {
    "name": "ipython",
    "version": 3
   },
   "file_extension": ".py",
   "mimetype": "text/x-python",
   "name": "python",
   "nbconvert_exporter": "python",
   "pygments_lexer": "ipython3",
   "version": "3.9.9"
  }
 },
 "nbformat": 4,
 "nbformat_minor": 5
}
