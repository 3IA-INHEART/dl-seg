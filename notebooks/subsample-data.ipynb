{
 "cells": [
  {
   "cell_type": "code",
   "execution_count": 1,
   "id": "f43209b0-a7c3-4761-b39e-85e2e6e0bf98",
   "metadata": {},
   "outputs": [],
   "source": [
    "import os"
   ]
  },
  {
   "cell_type": "code",
   "execution_count": 2,
   "id": "7c40e661-a0e1-4699-beb2-f435ce0daf07",
   "metadata": {},
   "outputs": [],
   "source": [
    "six_classes = []\n",
    "for scan in os.listdir(\"data\"):\n",
    "    cnt = 0\n",
    "    if scan != \"meta.csv\":\n",
    "        for segment in os.listdir(os.path.join(\"data\", scan, \"segmentations\")):\n",
    "            if \"heart\" in segment or \"aorta\" in segment:\n",
    "                cnt += 1\n",
    "            if cnt > 6:\n",
    "                raise ValueError(scan)\n",
    "            if cnt == 6:\n",
    "                six_classes.append(scan)"
   ]
  },
  {
   "cell_type": "code",
   "execution_count": 3,
   "id": "69f00013-1e09-49e2-8f56-95d591120cf8",
   "metadata": {},
   "outputs": [
    {
     "data": {
      "text/plain": [
       "8428"
      ]
     },
     "execution_count": 3,
     "metadata": {},
     "output_type": "execute_result"
    }
   ],
   "source": [
    "len(six_classes)"
   ]
  },
  {
   "cell_type": "code",
   "execution_count": 4,
   "id": "8d63082e-a69a-4e31-ae55-a1c815c419d0",
   "metadata": {},
   "outputs": [],
   "source": [
    "import random\n",
    "\n",
    "data = set()\n",
    "while len(data) < 300:\n",
    "    data.add(random.choice(six_classes))"
   ]
  },
  {
   "cell_type": "code",
   "execution_count": 5,
   "id": "3a51c7ee-1939-4f46-ad5e-495921533b0a",
   "metadata": {},
   "outputs": [],
   "source": [
    "data_0 = list(data)[:100]\n",
    "data_1 = list(data)[100:200]\n",
    "data_val = list(data)[200:]"
   ]
  },
  {
   "cell_type": "code",
   "execution_count": 6,
   "id": "542bca47-d9ef-45c3-b245-92704d7abdc3",
   "metadata": {},
   "outputs": [],
   "source": [
    "assert len(data_0) == 100\n",
    "assert len(data_1) == 100\n",
    "assert len(data_val) == 100"
   ]
  },
  {
   "cell_type": "code",
   "execution_count": 7,
   "id": "97880b1d-c830-4941-a2d3-433ceeffb130",
   "metadata": {},
   "outputs": [],
   "source": [
    "import shutil\n",
    "from typing import List\n",
    "\n",
    "\n",
    "def filter_data(\n",
    "    data: List[str], folder_name: str, include_aorta: bool\n",
    ") -> None:\n",
    "    for scan in os.listdir(\"data\"):\n",
    "        if scan in data:\n",
    "            os.mkdir(os.path.join(folder_name, scan))\n",
    "            os.mkdir(os.path.join(folder_name, scan, \"segmentations\"))\n",
    "            shutil.copy(\n",
    "                os.path.join(\"data\", scan, \"ct.nii.gz\"),\n",
    "                os.path.join(folder_name, scan, \"ct.nii.gz\"),\n",
    "            )\n",
    "            for segment in os.listdir(\n",
    "                os.path.join(\"data\", scan, \"segmentations\")\n",
    "            ):\n",
    "                if \"heart\" in segment or (\n",
    "                    include_aorta and \"aorta\" in segment\n",
    "                ):\n",
    "                    shutil.copy(\n",
    "                        os.path.join(\"data\", scan, \"segmentations\", segment),\n",
    "                        os.path.join(\n",
    "                            folder_name, scan, \"segmentations\", segment\n",
    "                        ),\n",
    "                    )\n",
    "\n",
    "\n",
    "shutil.rmtree(\"baseline_train\", ignore_errors=True)\n",
    "os.mkdir(\"baseline_train\")\n",
    "filter_data(data_0, \"baseline_train\", True)\n",
    "shutil.rmtree(\"additional_train\", ignore_errors=True)\n",
    "os.mkdir(\"additional_train\")\n",
    "filter_data(data_1, \"additional_train\", False)\n",
    "shutil.rmtree(\"validation\", ignore_errors=True)\n",
    "os.mkdir(\"validation\")\n",
    "filter_data(data_val, \"validation\", True)"
   ]
  },
  {
   "cell_type": "code",
   "execution_count": 8,
   "id": "22d02aca-0ca8-4ba9-9f06-d076b5876dae",
   "metadata": {},
   "outputs": [],
   "source": [
    "!rm -rf small_data\n",
    "!mkdir small_data\n",
    "!mv baseline_train small_data\n",
    "!mv additional_train small_data\n",
    "!mv validation small_data"
   ]
  },
  {
   "cell_type": "code",
   "execution_count": null,
   "id": "e1a1e38d-3c49-4b3d-a959-49b70f851605",
   "metadata": {},
   "outputs": [],
   "source": [
    "!tar -zcf small_data.tar.gz small_data/*"
   ]
  },
  {
   "cell_type": "code",
   "execution_count": null,
   "id": "bf1a002b-8e23-4f22-a3ef-57bf8a075fdb",
   "metadata": {},
   "outputs": [],
   "source": [
    "!ls -lh small_data.tar.gz"
   ]
  },
  {
   "cell_type": "code",
   "execution_count": null,
   "id": "67ddc82f-f780-472f-95eb-a3cdad730295",
   "metadata": {},
   "outputs": [],
   "source": []
  }
 ],
 "metadata": {
  "kernelspec": {
   "display_name": "Python 3 (ipykernel)",
   "language": "python",
   "name": "python3"
  },
  "language_info": {
   "codemirror_mode": {
    "name": "ipython",
    "version": 3
   },
   "file_extension": ".py",
   "mimetype": "text/x-python",
   "name": "python",
   "nbconvert_exporter": "python",
   "pygments_lexer": "ipython3",
   "version": "3.9.9"
  }
 },
 "nbformat": 4,
 "nbformat_minor": 5
}
