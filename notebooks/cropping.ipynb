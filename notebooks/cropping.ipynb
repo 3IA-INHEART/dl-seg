{
 "cells": [
  {
   "cell_type": "code",
   "execution_count": 1,
   "id": "5af44ed5-069d-4e6e-8bb9-5a5895e10082",
   "metadata": {},
   "outputs": [
    {
     "data": {
      "text/html": [
       "\n",
       "                <script type=\"application/javascript\" id=\"jupyter_black\">\n",
       "                (function() {\n",
       "                    if (window.IPython === undefined) {\n",
       "                        return\n",
       "                    }\n",
       "                    var msg = \"WARNING: it looks like you might have loaded \" +\n",
       "                        \"jupyter_black in a non-lab notebook with \" +\n",
       "                        \"`is_lab=True`. Please double check, and if \" +\n",
       "                        \"loading with `%load_ext` please review the README!\"\n",
       "                    console.log(msg)\n",
       "                    alert(msg)\n",
       "                })()\n",
       "                </script>\n",
       "                "
      ],
      "text/plain": [
       "<IPython.core.display.HTML object>"
      ]
     },
     "metadata": {},
     "output_type": "display_data"
    }
   ],
   "source": [
    "import jupyter_black\n",
    "\n",
    "jupyter_black.load(line_length=79)"
   ]
  },
  {
   "cell_type": "code",
   "execution_count": 2,
   "id": "ad5ceb8e-3488-4b4f-bc1f-78b77b985075",
   "metadata": {},
   "outputs": [],
   "source": [
    "import SimpleITK as sitk\n",
    "import os\n",
    "import numpy as np\n",
    "import shutil\n",
    "import random"
   ]
  },
  {
   "cell_type": "code",
   "execution_count": 3,
   "id": "fc877626-739f-49d2-9699-5c501b79af5e",
   "metadata": {},
   "outputs": [],
   "source": [
    "classes = {\n",
    "    \"aorta.nii.gz\": 1,\n",
    "    \"heart_atrium_left.nii.gz\": 2,\n",
    "    \"heart_atrium_right.nii.gz\": 3,\n",
    "    \"heart_myocardium.nii.gz\": 4,\n",
    "    \"heart_ventricle_left.nii.gz\": 5,\n",
    "    \"heart_ventricle_right.nii.gz\": 6,\n",
    "}"
   ]
  },
  {
   "cell_type": "code",
   "execution_count": 4,
   "id": "6c463242-2667-4723-aaf5-bd22a0a14fe5",
   "metadata": {},
   "outputs": [],
   "source": [
    "def crop_data(\n",
    "    starting_index: int = 1,\n",
    "    hide_one_class_at_random: bool = False,\n",
    "    output_folder: str = \"D_0\",\n",
    ") -> None:\n",
    "    reader = sitk.ImageFileReader()\n",
    "    reader.SetImageIO(\"NiftiImageIO\")\n",
    "    writer = sitk.ImageFileWriter()\n",
    "    images_folder = os.path.join(output_folder, \"imagesTr\")\n",
    "    labels_folder = os.path.join(output_folder, \"labelsTr\")\n",
    "    shutil.rmtree(output_folder, ignore_errors=True)\n",
    "    os.mkdir(output_folder)\n",
    "    os.mkdir(images_folder)\n",
    "    os.mkdir(labels_folder)\n",
    "    sorted_scans = sorted(os.listdir(\"data\"))\n",
    "    data_folder = os.path.join(os.environ[\"HOME\"], \"data\")\n",
    "    cnt = 0\n",
    "    for last_scan, scan_id in enumerate(sorted_scans[starting_index:]):\n",
    "        reader.SetFileName(os.path.join(data_folder, scan_id, \"ct.nii.gz\"))\n",
    "        try:\n",
    "            full_scan = sitk.GetArrayFromImage(reader.Execute())\n",
    "        except:\n",
    "            print(\"bad scan\", scan_id)\n",
    "            continue\n",
    "        total_mask = np.zeros(full_scan.shape)\n",
    "        for key in classes:\n",
    "            segment_filename = os.path.join(\n",
    "                data_folder, scan_id, \"segmentations\", key\n",
    "            )\n",
    "            if to_continue := not os.path.exists(segment_filename):\n",
    "                print(\"segment file missing\", scan_id)\n",
    "                break\n",
    "            reader.SetFileName(segment_filename)\n",
    "            segment = sitk.GetArrayFromImage(reader.Execute())\n",
    "            if to_continue := segment.max() == 0:\n",
    "                print(f\"segment file {key} is all zeros for {scan_id}\")\n",
    "                break\n",
    "            else:\n",
    "                total_mask += classes[key] * sitk.GetArrayFromImage(\n",
    "                    reader.Execute()\n",
    "                )\n",
    "        if to_continue:\n",
    "            continue\n",
    "        indices = np.where(total_mask > 0)\n",
    "        min_max = [(i.min(), i.max()) for i in indices]\n",
    "        cropped_mask = total_mask[\n",
    "            min_max[0][0] : min_max[0][1] + 1,\n",
    "            min_max[1][0] : min_max[1][1] + 1,\n",
    "            min_max[2][0] : min_max[2][1] + 1,\n",
    "        ]\n",
    "        cropped_scan = full_scan[\n",
    "            min_max[0][0] : min_max[0][1] + 1,\n",
    "            min_max[1][0] : min_max[1][1] + 1,\n",
    "            min_max[2][0] : min_max[2][1] + 1,\n",
    "        ]\n",
    "        if hide_one_class_at_random:\n",
    "            hidden_class = random.choice(range(1, 7))\n",
    "            cropped_mask[cropped_mask == hidden_class] = 0\n",
    "        writer.SetFileName(\n",
    "            os.path.join(labels_folder, f\"la_{scan_id[1:]}.nii.gz\")\n",
    "        )\n",
    "        writer.Execute(sitk.GetImageFromArray(cropped_mask))\n",
    "        writer.SetFileName(\n",
    "            os.path.join(images_folder, f\"la_{scan_id[1:]}_0000.nii.gz\")\n",
    "        )\n",
    "        writer.Execute(sitk.GetImageFromArray(cropped_scan))\n",
    "        cnt += 1\n",
    "        if cnt >= 100:\n",
    "            break\n",
    "    return last_scan + starting_index"
   ]
  },
  {
   "cell_type": "code",
   "execution_count": 5,
   "id": "1f4793d7-7377-45ff-9416-b6d027fe0b47",
   "metadata": {},
   "outputs": [
    {
     "name": "stdout",
     "output_type": "stream",
     "text": [
      "bad scan s0000\n",
      "bad scan s0001\n",
      "bad scan s0002\n",
      "segment file aorta.nii.gz is all zeros for s0003\n",
      "bad scan s0004\n",
      "segment file heart_atrium_left.nii.gz is all zeros for s0006\n",
      "segment file heart_atrium_left.nii.gz is all zeros for s0009\n",
      "segment file heart_atrium_left.nii.gz is all zeros for s0022\n",
      "bad scan s0025\n",
      "segment file heart_atrium_left.nii.gz is all zeros for s0034\n",
      "segment file heart_ventricle_left.nii.gz is all zeros for s0035\n",
      "segment file aorta.nii.gz is all zeros for s0036\n",
      "bad scan s0043\n",
      "segment file heart_atrium_left.nii.gz is all zeros for s0044\n",
      "bad scan s0048\n",
      "segment file aorta.nii.gz is all zeros for s0056\n",
      "bad scan s0061\n",
      "bad scan s0062\n",
      "segment file heart_atrium_left.nii.gz is all zeros for s0063\n",
      "bad scan s0066\n",
      "bad scan s0067\n",
      "segment file heart_atrium_left.nii.gz is all zeros for s0068\n",
      "segment file heart_atrium_left.nii.gz is all zeros for s0069\n",
      "segment file heart_atrium_left.nii.gz is all zeros for s0073\n",
      "segment file heart_atrium_left.nii.gz is all zeros for s0074\n",
      "bad scan s0079\n",
      "bad scan s0081\n",
      "bad scan s0090\n",
      "segment file heart_atrium_left.nii.gz is all zeros for s0092\n",
      "segment file heart_atrium_left.nii.gz is all zeros for s0098\n",
      "segment file aorta.nii.gz is all zeros for s0099\n",
      "segment file aorta.nii.gz is all zeros for s0100\n",
      "segment file aorta.nii.gz is all zeros for s0101\n",
      "segment file aorta.nii.gz is all zeros for s0103\n",
      "segment file heart_atrium_left.nii.gz is all zeros for s0104\n",
      "segment file heart_atrium_left.nii.gz is all zeros for s0105\n",
      "bad scan s0107\n",
      "segment file heart_atrium_left.nii.gz is all zeros for s0108\n",
      "segment file heart_atrium_left.nii.gz is all zeros for s0110\n",
      "bad scan s0112\n",
      "bad scan s0114\n",
      "bad scan s0117\n",
      "segment file aorta.nii.gz is all zeros for s0122\n",
      "segment file heart_atrium_left.nii.gz is all zeros for s0129\n",
      "bad scan s0130\n",
      "segment file heart_atrium_left.nii.gz is all zeros for s0131\n",
      "segment file heart_atrium_left.nii.gz is all zeros for s0132\n",
      "segment file heart_atrium_left.nii.gz is all zeros for s0136\n",
      "segment file heart_atrium_left.nii.gz is all zeros for s0139\n",
      "segment file aorta.nii.gz is all zeros for s0140\n",
      "segment file heart_atrium_left.nii.gz is all zeros for s0143\n",
      "bad scan s0146\n",
      "segment file heart_atrium_left.nii.gz is all zeros for s0147\n",
      "bad scan s0149\n",
      "segment file heart_atrium_left.nii.gz is all zeros for s0151\n",
      "segment file heart_atrium_left.nii.gz is all zeros for s0152\n",
      "bad scan s0154\n",
      "segment file aorta.nii.gz is all zeros for s0159\n",
      "segment file heart_atrium_left.nii.gz is all zeros for s0161\n",
      "segment file heart_atrium_left.nii.gz is all zeros for s0167\n",
      "bad scan s0169\n",
      "segment file heart_atrium_left.nii.gz is all zeros for s0170\n",
      "segment file heart_atrium_left.nii.gz is all zeros for s0172\n",
      "segment file heart_atrium_left.nii.gz is all zeros for s0174\n",
      "segment file heart_atrium_left.nii.gz is all zeros for s0179\n",
      "segment file heart_atrium_left.nii.gz is all zeros for s0181\n",
      "segment file heart_atrium_left.nii.gz is all zeros for s0185\n",
      "segment file aorta.nii.gz is all zeros for s0187\n",
      "segment file heart_atrium_left.nii.gz is all zeros for s0188\n",
      "bad scan s0189\n",
      "segment file heart_atrium_left.nii.gz is all zeros for s0190\n",
      "segment file heart_atrium_left.nii.gz is all zeros for s0192\n",
      "bad scan s0193\n",
      "segment file heart_atrium_left.nii.gz is all zeros for s0201\n",
      "bad scan s0208\n",
      "bad scan s0209\n",
      "segment file heart_atrium_left.nii.gz is all zeros for s0216\n",
      "segment file aorta.nii.gz is all zeros for s0217\n",
      "segment file heart_atrium_left.nii.gz is all zeros for s0221\n"
     ]
    }
   ],
   "source": [
    "last_scan = crop_data()"
   ]
  },
  {
   "cell_type": "code",
   "execution_count": 6,
   "id": "eeaae31d-8885-4a2c-a0ae-f0f4d1e4099b",
   "metadata": {},
   "outputs": [
    {
     "name": "stdout",
     "output_type": "stream",
     "text": [
      "bad scan s0226\n",
      "segment file heart_atrium_left.nii.gz is all zeros for s0228\n",
      "segment file aorta.nii.gz is all zeros for s0229\n",
      "segment file heart_atrium_left.nii.gz is all zeros for s0233\n",
      "segment file aorta.nii.gz is all zeros for s0234\n",
      "bad scan s0235\n",
      "bad scan s0236\n",
      "segment file heart_atrium_left.nii.gz is all zeros for s0237\n",
      "bad scan s0242\n",
      "segment file heart_atrium_left.nii.gz is all zeros for s0246\n",
      "bad scan s0254\n",
      "segment file aorta.nii.gz is all zeros for s0259\n",
      "segment file heart_atrium_left.nii.gz is all zeros for s0261\n",
      "segment file heart_atrium_right.nii.gz is all zeros for s0263\n",
      "segment file heart_atrium_left.nii.gz is all zeros for s0265\n",
      "segment file heart_atrium_left.nii.gz is all zeros for s0277\n",
      "bad scan s0278\n",
      "segment file heart_atrium_left.nii.gz is all zeros for s0279\n",
      "segment file heart_atrium_left.nii.gz is all zeros for s0281\n",
      "bad scan s0282\n",
      "segment file heart_atrium_left.nii.gz is all zeros for s0283\n",
      "segment file heart_myocardium.nii.gz is all zeros for s0286\n",
      "segment file heart_atrium_left.nii.gz is all zeros for s0288\n",
      "segment file heart_atrium_left.nii.gz is all zeros for s0289\n",
      "segment file heart_atrium_right.nii.gz is all zeros for s0292\n",
      "bad scan s0295\n",
      "segment file heart_atrium_left.nii.gz is all zeros for s0296\n",
      "segment file heart_atrium_left.nii.gz is all zeros for s0298\n",
      "bad scan s0299\n",
      "segment file heart_atrium_left.nii.gz is all zeros for s0300\n",
      "bad scan s0301\n",
      "segment file heart_atrium_left.nii.gz is all zeros for s0304\n",
      "segment file heart_atrium_left.nii.gz is all zeros for s0306\n",
      "bad scan s0311\n",
      "segment file aorta.nii.gz is all zeros for s0312\n",
      "segment file heart_atrium_left.nii.gz is all zeros for s0313\n",
      "segment file heart_atrium_left.nii.gz is all zeros for s0314\n",
      "segment file heart_atrium_left.nii.gz is all zeros for s0316\n",
      "segment file heart_atrium_left.nii.gz is all zeros for s0324\n",
      "bad scan s0326\n",
      "segment file heart_atrium_left.nii.gz is all zeros for s0328\n",
      "segment file heart_atrium_left.nii.gz is all zeros for s0330\n",
      "segment file heart_atrium_left.nii.gz is all zeros for s0333\n",
      "segment file aorta.nii.gz is all zeros for s0340\n",
      "segment file heart_atrium_left.nii.gz is all zeros for s0346\n",
      "bad scan s0352\n",
      "bad scan s0353\n",
      "segment file heart_atrium_left.nii.gz is all zeros for s0359\n",
      "segment file aorta.nii.gz is all zeros for s0360\n",
      "bad scan s0361\n",
      "segment file heart_atrium_left.nii.gz is all zeros for s0366\n",
      "segment file heart_atrium_left.nii.gz is all zeros for s0379\n",
      "segment file heart_atrium_left.nii.gz is all zeros for s0381\n",
      "segment file heart_atrium_left.nii.gz is all zeros for s0385\n",
      "bad scan s0386\n",
      "segment file aorta.nii.gz is all zeros for s0388\n",
      "segment file heart_atrium_left.nii.gz is all zeros for s0395\n",
      "segment file aorta.nii.gz is all zeros for s0396\n",
      "segment file aorta.nii.gz is all zeros for s0399\n",
      "segment file heart_atrium_left.nii.gz is all zeros for s0400\n"
     ]
    }
   ],
   "source": [
    "last_scan = crop_data(last_scan + 1, True, \"D_1\")"
   ]
  },
  {
   "cell_type": "code",
   "execution_count": 7,
   "id": "b93400f8-557f-4d53-b3f3-a143b60f2002",
   "metadata": {},
   "outputs": [
    {
     "name": "stdout",
     "output_type": "stream",
     "text": [
      "segment file aorta.nii.gz is all zeros for s0410\n",
      "segment file heart_atrium_left.nii.gz is all zeros for s0411\n",
      "bad scan s0417\n",
      "segment file aorta.nii.gz is all zeros for s0418\n",
      "segment file heart_atrium_left.nii.gz is all zeros for s0419\n",
      "segment file heart_atrium_left.nii.gz is all zeros for s0426\n",
      "bad scan s0436\n",
      "segment file heart_atrium_left.nii.gz is all zeros for s0442\n",
      "segment file aorta.nii.gz is all zeros for s0443\n",
      "segment file aorta.nii.gz is all zeros for s0449\n",
      "segment file heart_atrium_left.nii.gz is all zeros for s0450\n",
      "segment file aorta.nii.gz is all zeros for s0453\n",
      "segment file heart_atrium_left.nii.gz is all zeros for s0454\n",
      "bad scan s0457\n",
      "segment file aorta.nii.gz is all zeros for s0460\n",
      "bad scan s0462\n",
      "segment file aorta.nii.gz is all zeros for s0466\n",
      "segment file aorta.nii.gz is all zeros for s0474\n",
      "segment file heart_atrium_left.nii.gz is all zeros for s0475\n",
      "segment file heart_atrium_left.nii.gz is all zeros for s0478\n",
      "segment file heart_myocardium.nii.gz is all zeros for s0491\n",
      "segment file aorta.nii.gz is all zeros for s0492\n",
      "bad scan s0493\n",
      "segment file heart_atrium_left.nii.gz is all zeros for s0497\n",
      "segment file heart_atrium_left.nii.gz is all zeros for s0501\n",
      "segment file heart_atrium_left.nii.gz is all zeros for s0503\n",
      "bad scan s0504\n",
      "segment file heart_atrium_left.nii.gz is all zeros for s0506\n",
      "bad scan s0514\n",
      "segment file heart_atrium_left.nii.gz is all zeros for s0518\n",
      "segment file heart_atrium_left.nii.gz is all zeros for s0520\n",
      "segment file heart_atrium_left.nii.gz is all zeros for s0521\n",
      "segment file heart_atrium_left.nii.gz is all zeros for s0525\n",
      "bad scan s0526\n",
      "bad scan s0527\n",
      "segment file heart_atrium_left.nii.gz is all zeros for s0535\n",
      "segment file heart_atrium_left.nii.gz is all zeros for s0537\n",
      "segment file aorta.nii.gz is all zeros for s0539\n",
      "bad scan s0552\n",
      "bad scan s0557\n",
      "bad scan s0559\n",
      "segment file heart_atrium_left.nii.gz is all zeros for s0560\n",
      "bad scan s0561\n",
      "bad scan s0563\n",
      "segment file heart_atrium_left.nii.gz is all zeros for s0564\n",
      "segment file aorta.nii.gz is all zeros for s0567\n",
      "segment file aorta.nii.gz is all zeros for s0568\n",
      "segment file aorta.nii.gz is all zeros for s0572\n",
      "segment file heart_atrium_left.nii.gz is all zeros for s0573\n",
      "segment file aorta.nii.gz is all zeros for s0575\n",
      "segment file heart_atrium_left.nii.gz is all zeros for s0576\n",
      "segment file heart_atrium_left.nii.gz is all zeros for s0581\n"
     ]
    }
   ],
   "source": [
    "last_scan = crop_data(last_scan + 1, False, \"D_val\")"
   ]
  },
  {
   "cell_type": "code",
   "execution_count": 8,
   "id": "fbdf27ed-142a-4179-9583-dd6faf14e40c",
   "metadata": {},
   "outputs": [],
   "source": [
    "from tqdm import tqdm\n",
    "\n",
    "reader = sitk.ImageFileReader()\n",
    "reader.SetImageIO(\"NiftiImageIO\")"
   ]
  },
  {
   "cell_type": "code",
   "execution_count": 9,
   "id": "8fd9266c-54f3-4544-be45-4d336c809ea8",
   "metadata": {},
   "outputs": [
    {
     "name": "stderr",
     "output_type": "stream",
     "text": [
      "100%|██████████| 100/100 [00:05<00:00, 16.74it/s]\n"
     ]
    }
   ],
   "source": [
    "for filename in tqdm(os.listdir(\"D_0/labelsTr\")):\n",
    "    reader.SetFileName(os.path.join(\"D_0/labelsTr\", filename))\n",
    "    scan = reader.Execute()\n",
    "    values = [i in sitk.GetArrayFromImage(scan) for i in range(7)]\n",
    "    assert 7 == sum(values)"
   ]
  },
  {
   "cell_type": "code",
   "execution_count": 10,
   "id": "62070d3a-fc53-4b8e-bde6-1ece3804156a",
   "metadata": {},
   "outputs": [
    {
     "name": "stderr",
     "output_type": "stream",
     "text": [
      "100%|██████████| 100/100 [00:05<00:00, 17.57it/s]\n"
     ]
    }
   ],
   "source": [
    "for filename in tqdm(os.listdir(\"D_1/labelsTr\")):\n",
    "    reader.SetFileName(os.path.join(\"D_1/labelsTr\", filename))\n",
    "    scan = reader.Execute()\n",
    "    values = [i in sitk.GetArrayFromImage(scan) for i in range(1, 7)]\n",
    "    assert 5 == sum(values)"
   ]
  },
  {
   "cell_type": "code",
   "execution_count": 11,
   "id": "3a5bdadb-989e-4a71-ad84-dc071940d0f3",
   "metadata": {},
   "outputs": [
    {
     "name": "stderr",
     "output_type": "stream",
     "text": [
      "100%|██████████| 100/100 [00:06<00:00, 14.99it/s]\n"
     ]
    }
   ],
   "source": [
    "for filename in tqdm(os.listdir(\"D_val/labelsTr\")):\n",
    "    reader.SetFileName(os.path.join(\"D_val/labelsTr\", filename))\n",
    "    scan = reader.Execute()\n",
    "    values = [i in sitk.GetArrayFromImage(scan) for i in range(7)]\n",
    "    assert 7 == sum(values)"
   ]
  },
  {
   "cell_type": "code",
   "execution_count": null,
   "id": "3e2c47f7-fc5d-4da5-b64c-ed86b486a449",
   "metadata": {},
   "outputs": [],
   "source": []
  }
 ],
 "metadata": {
  "kernelspec": {
   "display_name": "Python 3 (ipykernel)",
   "language": "python",
   "name": "python3"
  },
  "language_info": {
   "codemirror_mode": {
    "name": "ipython",
    "version": 3
   },
   "file_extension": ".py",
   "mimetype": "text/x-python",
   "name": "python",
   "nbconvert_exporter": "python",
   "pygments_lexer": "ipython3",
   "version": "3.9.9"
  }
 },
 "nbformat": 4,
 "nbformat_minor": 5
}
